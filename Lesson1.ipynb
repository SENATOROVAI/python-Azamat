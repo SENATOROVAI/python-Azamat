{
 "cells": [
  {
   "cell_type": "code",
   "execution_count": 1,
   "metadata": {},
   "outputs": [
    {
     "name": "stdout",
     "output_type": "stream",
     "text": [
      "Hello world\n"
     ]
    }
   ],
   "source": [
    "print(\"Hello world\")"
   ]
  },
  {
   "cell_type": "code",
   "execution_count": null,
   "metadata": {},
   "outputs": [],
   "source": [
    "1"
   ]
  },
  {
   "cell_type": "code",
   "execution_count": 2,
   "metadata": {},
   "outputs": [
    {
     "name": "stdout",
     "output_type": "stream",
     "text": [
      "asttokens==2.2.1\n",
      "backcall==0.2.0\n",
      "colorama==0.4.6\n",
      "comm==0.1.3\n",
      "debugpy==1.6.7\n",
      "decorator==5.1.1\n",
      "executing==1.2.0\n",
      "ipykernel==6.24.0\n",
      "ipython==8.14.0\n",
      "jedi==0.18.2\n",
      "jupyter_client==8.3.0\n",
      "jupyter_core==5.3.1\n",
      "matplotlib-inline==0.1.6\n",
      "nest-asyncio==1.5.6\n",
      "packaging==23.1\n",
      "parso==0.8.3\n",
      "pickleshare==0.7.5\n",
      "platformdirs==3.8.1\n",
      "prompt-toolkit==3.0.39\n",
      "psutil==5.9.5\n",
      "pure-eval==0.2.2\n",
      "Pygments==2.15.1\n",
      "python-dateutil==2.8.2\n",
      "pywin32==306\n",
      "pyzmq==25.1.0\n",
      "six==1.16.0\n",
      "stack-data==0.6.2\n",
      "tornado==6.3.2\n",
      "traitlets==5.9.0\n",
      "wcwidth==0.2.6\n"
     ]
    }
   ],
   "source": [
    "!pip freeze"
   ]
  },
  {
   "cell_type": "markdown",
   "metadata": {},
   "source": [
    "### fork\n",
    "Операция позволящая склонировать репозиторий в свой личный аккаунт гитхаба, для дальнейшего пулл реквеста.\n",
    "\n",
    "### Pull Requests\n",
    "Процедура передачи изменений из личного репезитория в репозиторий который форкнули, пулл реквест возможен только при наличии внесенных изменений в свой личный репезиторий.\n",
    "\n",
    "### linter\n",
    "Инструмент анализа и поиск ошибок, согласно PEP8.\n",
    "Flake8-линтер.\n",
    "Black(shift+alt+f)-инструмент автоформирования кода по линтеру.\n",
    "Mypy-инструмент анализа typehint (аннотация типов)\n",
    "\n",
    "### Clone to local host\n",
    "Клонирование на локальный сторадж.\n",
    "\n",
    "### Commits\n",
    "Комиты - это сохранение изменений в гитхабе под опеределенным неймингом и id.\n",
    "\n",
    "### Edit Linter\n",
    "Сделали 120 символов на строку\n",
    "\n"
   ]
  },
  {
   "cell_type": "code",
   "execution_count": 1,
   "metadata": {},
   "outputs": [
    {
     "name": "stdout",
     "output_type": "stream",
     "text": [
      "Collecting flake8-variables-names\n",
      "  Downloading flake8_variables_names-0.0.6-py3-none-any.whl (6.1 kB)\n",
      "Installing collected packages: flake8-variables-names\n",
      "Successfully installed flake8-variables-names-0.0.6\n",
      "Collecting flake8-functions-names\n",
      "  Downloading flake8_functions_names-0.4.0.tar.gz (10 kB)\n",
      "  Installing build dependencies: started\n",
      "  Installing build dependencies: finished with status 'done'\n",
      "  Getting requirements to build wheel: started\n",
      "  Getting requirements to build wheel: finished with status 'done'\n",
      "  Preparing metadata (pyproject.toml): started\n",
      "  Preparing metadata (pyproject.toml): finished with status 'done'\n",
      "Requirement already satisfied: setuptools in c:\\users\\rooll\\documents\\github\\python-azamat\\venv\\lib\\site-packages (from flake8-functions-names) (65.5.0)\n",
      "Building wheels for collected packages: flake8-functions-names\n",
      "  Building wheel for flake8-functions-names (pyproject.toml): started\n",
      "  Building wheel for flake8-functions-names (pyproject.toml): finished with status 'done'\n",
      "  Created wheel for flake8-functions-names: filename=flake8_functions_names-0.4.0-py3-none-any.whl size=10454 sha256=cfc1c3b4efdc20dad40f75f84103b33821817c839973ff89c8c404885163412e\n",
      "  Stored in directory: c:\\users\\rooll\\appdata\\local\\pip\\cache\\wheels\\18\\51\\2d\\448eed45112119bdf0897c526c4065cc87e2b5e009c3913c13\n",
      "Successfully built flake8-functions-names\n",
      "Installing collected packages: flake8-functions-names\n",
      "Successfully installed flake8-functions-names-0.4.0\n",
      "Collecting flake8-builtins\n",
      "  Downloading flake8_builtins-2.1.0-py3-none-any.whl (13 kB)\n",
      "Collecting flake8 (from flake8-builtins)\n",
      "  Downloading flake8-6.0.0-py2.py3-none-any.whl (57 kB)\n",
      "                                              0.0/57.8 kB ? eta -:--:--\n",
      "     ---------------------                    30.7/57.8 kB 1.4 MB/s eta 0:00:01\n",
      "     --------------------------             41.0/57.8 kB 495.5 kB/s eta 0:00:01\n",
      "     -------------------------------------- 57.8/57.8 kB 610.0 kB/s eta 0:00:00\n",
      "Collecting mccabe<0.8.0,>=0.7.0 (from flake8->flake8-builtins)\n",
      "  Downloading mccabe-0.7.0-py2.py3-none-any.whl (7.3 kB)\n",
      "Collecting pycodestyle<2.11.0,>=2.10.0 (from flake8->flake8-builtins)\n",
      "  Downloading pycodestyle-2.10.0-py2.py3-none-any.whl (41 kB)\n",
      "                                              0.0/41.3 kB ? eta -:--:--\n",
      "     ---------------------------------------- 41.3/41.3 kB 1.0 MB/s eta 0:00:00\n",
      "Collecting pyflakes<3.1.0,>=3.0.0 (from flake8->flake8-builtins)\n",
      "  Downloading pyflakes-3.0.1-py2.py3-none-any.whl (62 kB)\n",
      "                                              0.0/62.8 kB ? eta -:--:--\n",
      "     ---------------------------------------  61.4/62.8 kB 3.4 MB/s eta 0:00:01\n",
      "     ---------------------------------------- 62.8/62.8 kB 1.7 MB/s eta 0:00:00\n",
      "Installing collected packages: pyflakes, pycodestyle, mccabe, flake8, flake8-builtins\n",
      "Successfully installed flake8-6.0.0 flake8-builtins-2.1.0 mccabe-0.7.0 pycodestyle-2.10.0 pyflakes-3.0.1\n",
      "Collecting flake8-bugbear\n",
      "  Downloading flake8_bugbear-23.7.10-py3-none-any.whl (30 kB)\n",
      "Requirement already satisfied: flake8>=6.0.0 in c:\\users\\rooll\\documents\\github\\python-azamat\\venv\\lib\\site-packages (from flake8-bugbear) (6.0.0)\n",
      "Collecting attrs>=19.2.0 (from flake8-bugbear)\n",
      "  Downloading attrs-23.1.0-py3-none-any.whl (61 kB)\n",
      "                                              0.0/61.2 kB ? eta -:--:--\n",
      "     ---------------------------------        51.2/61.2 kB 2.6 MB/s eta 0:00:01\n",
      "     ---------------------------------------- 61.2/61.2 kB 1.6 MB/s eta 0:00:00\n",
      "Requirement already satisfied: mccabe<0.8.0,>=0.7.0 in c:\\users\\rooll\\documents\\github\\python-azamat\\venv\\lib\\site-packages (from flake8>=6.0.0->flake8-bugbear) (0.7.0)\n",
      "Requirement already satisfied: pycodestyle<2.11.0,>=2.10.0 in c:\\users\\rooll\\documents\\github\\python-azamat\\venv\\lib\\site-packages (from flake8>=6.0.0->flake8-bugbear) (2.10.0)\n",
      "Requirement already satisfied: pyflakes<3.1.0,>=3.0.0 in c:\\users\\rooll\\documents\\github\\python-azamat\\venv\\lib\\site-packages (from flake8>=6.0.0->flake8-bugbear) (3.0.1)\n",
      "Installing collected packages: attrs, flake8-bugbear\n",
      "Successfully installed attrs-23.1.0 flake8-bugbear-23.7.10\n",
      "Collecting pep8-naming\n",
      "  Downloading pep8_naming-0.13.3-py3-none-any.whl (8.5 kB)\n",
      "Requirement already satisfied: flake8>=5.0.0 in c:\\users\\rooll\\documents\\github\\python-azamat\\venv\\lib\\site-packages (from pep8-naming) (6.0.0)\n",
      "Requirement already satisfied: mccabe<0.8.0,>=0.7.0 in c:\\users\\rooll\\documents\\github\\python-azamat\\venv\\lib\\site-packages (from flake8>=5.0.0->pep8-naming) (0.7.0)\n",
      "Requirement already satisfied: pycodestyle<2.11.0,>=2.10.0 in c:\\users\\rooll\\documents\\github\\python-azamat\\venv\\lib\\site-packages (from flake8>=5.0.0->pep8-naming) (2.10.0)\n",
      "Requirement already satisfied: pyflakes<3.1.0,>=3.0.0 in c:\\users\\rooll\\documents\\github\\python-azamat\\venv\\lib\\site-packages (from flake8>=5.0.0->pep8-naming) (3.0.1)\n",
      "Installing collected packages: pep8-naming\n",
      "Successfully installed pep8-naming-0.13.3\n"
     ]
    }
   ],
   "source": [
    "!pip install flake8-variables-names\n",
    "!pip install flake8-functions-names\n",
    "!pip install flake8-builtins\n",
    "!pip install flake8-bugbear\n",
    "!pip install pep8-naming"
   ]
  }
 ],
 "metadata": {
  "kernelspec": {
   "display_name": "venv",
   "language": "python",
   "name": "python3"
  },
  "language_info": {
   "codemirror_mode": {
    "name": "ipython",
    "version": 3
   },
   "file_extension": ".py",
   "mimetype": "text/x-python",
   "name": "python",
   "nbconvert_exporter": "python",
   "pygments_lexer": "ipython3",
   "version": "3.11.4"
  },
  "orig_nbformat": 4
 },
 "nbformat": 4,
 "nbformat_minor": 2
}
