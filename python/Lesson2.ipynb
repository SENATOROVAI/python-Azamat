{
 "cells": [
  {
   "cell_type": "code",
   "execution_count": 2,
   "metadata": {},
   "outputs": [],
   "source": [
    "!pip freeze  > requirements.txt # Выгрузка зависимостей, выгружаем только при наличии внешних пакетов\n"
   ]
  },
  {
   "cell_type": "code",
   "execution_count": 3,
   "metadata": {},
   "outputs": [
    {
     "data": {
      "text/plain": [
       "2"
      ]
     },
     "execution_count": 3,
     "metadata": {},
     "output_type": "execute_result"
    }
   ],
   "source": [
    "1 + 1"
   ]
  },
  {
   "cell_type": "markdown",
   "metadata": {},
   "source": [
    "Operators\n",
    "+, - , *, /\n",
    "//, %, **"
   ]
  },
  {
   "cell_type": "code",
   "execution_count": 4,
   "metadata": {},
   "outputs": [
    {
     "data": {
      "text/plain": [
       "8"
      ]
     },
     "execution_count": 4,
     "metadata": {},
     "output_type": "execute_result"
    }
   ],
   "source": [
    "(1 + 3) * 2"
   ]
  },
  {
   "cell_type": "code",
   "execution_count": 5,
   "metadata": {},
   "outputs": [
    {
     "data": {
      "text/plain": [
       "6"
      ]
     },
     "execution_count": 5,
     "metadata": {},
     "output_type": "execute_result"
    }
   ],
   "source": [
    "2 + 2 * 2"
   ]
  },
  {
   "cell_type": "markdown",
   "metadata": {},
   "source": [
    "Логические операторы\n",
    "Конъюкция (логическое умножение) - and \n",
    "Дизъюнкция (Логическое сложение) - or\n",
    "инверсия - not "
   ]
  },
  {
   "cell_type": "code",
   "execution_count": null,
   "metadata": {},
   "outputs": [],
   "source": [
    "# Таблица истинности\n",
    "# AND\n",
    "True and True # True => 1\n",
    "True and False # False => 0\n",
    "False and True # False => 0\n",
    "False and False # False => 0\n",
    "# OR\n",
    "True or True # True => 1\n",
    "True or False # True => 1\n",
    "False or True # True => 1\n",
    "False or False # False => 0\n",
    "# Инверсия\n",
    "not False # True\n",
    "not True # False"
   ]
  },
  {
   "cell_type": "code",
   "execution_count": null,
   "metadata": {},
   "outputs": [],
   "source": [
    "# Булевые операторы\n",
    "True \n",
    "False"
   ]
  },
  {
   "cell_type": "code",
   "execution_count": 9,
   "metadata": {},
   "outputs": [
    {
     "data": {
      "text/plain": [
       "True"
      ]
     },
     "execution_count": 9,
     "metadata": {},
     "output_type": "execute_result"
    }
   ],
   "source": [
    "# Сравнение Typecasting, возвращает булевый тип данных\n",
    "0 == False\n",
    "1 == True\n",
    "2 == True\n",
    "-5 != False"
   ]
  },
  {
   "cell_type": "code",
   "execution_count": 12,
   "metadata": {},
   "outputs": [
    {
     "data": {
      "text/plain": [
       "-11"
      ]
     },
     "execution_count": 12,
     "metadata": {},
     "output_type": "execute_result"
    }
   ],
   "source": [
    "# math operators\n",
    "True + True\n",
    "True * 11\n",
    "False - 11\n"
   ]
  },
  {
   "cell_type": "code",
   "execution_count": 23,
   "metadata": {},
   "outputs": [
    {
     "data": {
      "text/plain": [
       "False"
      ]
     },
     "execution_count": 23,
     "metadata": {},
     "output_type": "execute_result"
    }
   ],
   "source": [
    "# Функция bool\n",
    "bool(4)\n",
    "bool(0)\n",
    "bool(-4)\n",
    "bool(\"\")\n",
    "bool(\" \")\n",
    "bool([1])\n",
    "bool([0])\n",
    "bool({})"
   ]
  },
  {
   "cell_type": "code",
   "execution_count": 26,
   "metadata": {},
   "outputs": [
    {
     "data": {
      "text/plain": [
       "False"
      ]
     },
     "execution_count": 26,
     "metadata": {},
     "output_type": "execute_result"
    }
   ],
   "source": [
    "1 != 1 \n",
    "5 > 7\n",
    "1 < 2 and 4 > 5 # True and False"
   ]
  },
  {
   "cell_type": "code",
   "execution_count": 35,
   "metadata": {},
   "outputs": [
    {
     "name": "stdout",
     "output_type": "stream",
     "text": [
      "True\n"
     ]
    },
    {
     "ename": "NameError",
     "evalue": "name 'list_copy' is not defined",
     "output_type": "error",
     "traceback": [
      "\u001b[1;31m---------------------------------------------------------------------------\u001b[0m",
      "\u001b[1;31mNameError\u001b[0m                                 Traceback (most recent call last)",
      "Cell \u001b[1;32mIn[35], line 12\u001b[0m\n\u001b[0;32m     10\u001b[0m \u001b[39mdel\u001b[39;00m list1\n\u001b[0;32m     11\u001b[0m \u001b[39mdel\u001b[39;00m list_copy\n\u001b[1;32m---> 12\u001b[0m list_copy\n",
      "\u001b[1;31mNameError\u001b[0m: name 'list_copy' is not defined"
     ]
    }
   ],
   "source": [
    "list1 = [1, 2, 3] # Переменная эта ссылка на объект, инициализировали ячейку памяти, количество ссылок 1\n",
    "list_copy = list1 # Количество ссылок 2\n",
    "# is оператор идентичности, проверяет идентичность объектов ссылаются на одну ячейку памяти\n",
    "list_copy is list1 # Две переменные ссылаются на один объект\n",
    "print(id(list_copy)==id(list1))\n",
    "list_copy == list1 # Проверка на эквивалентность\n",
    "list2 = [1, 2, 3]\n",
    "list2 is list1\n",
    "list2 == list1\n",
    "del list1 # Количесвто ссылок 1 объект сохранен в памяти\n",
    "del list_copy # Количество ссылок 0 приходит Garbage Collection и удаляет объект из памяти"
   ]
  },
  {
   "cell_type": "markdown",
   "metadata": {},
   "source": [
    "Дискретная математика - математика для програмистов;\n",
    "Дата анализ - теория веротности мат статистика;\n",
    "Дата Сайенс - мат анализ + линейная алгебра, + ДА + теория опимизации, комбинаторика + дискретка + алгоритмы машинного обучения"
   ]
  },
  {
   "cell_type": "code",
   "execution_count": null,
   "metadata": {},
   "outputs": [],
   "source": []
  }
 ],
 "metadata": {
  "kernelspec": {
   "display_name": "venv",
   "language": "python",
   "name": "python3"
  },
  "language_info": {
   "codemirror_mode": {
    "name": "ipython",
    "version": 3
   },
   "file_extension": ".py",
   "mimetype": "text/x-python",
   "name": "python",
   "nbconvert_exporter": "python",
   "pygments_lexer": "ipython3",
   "version": "3.11.4"
  },
  "orig_nbformat": 4
 },
 "nbformat": 4,
 "nbformat_minor": 2
}
